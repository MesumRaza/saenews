{
 "cells": [
  {
   "cell_type": "code",
   "execution_count": 1,
   "metadata": {},
   "outputs": [
    {
     "data": {
      "text/plain": [
       "''"
      ]
     },
     "execution_count": 1,
     "metadata": {},
     "output_type": "execute_result"
    }
   ],
   "source": [
    "import os\n",
    "os.popen(\"source activate py37d22\").read()"
   ]
  },
  {
   "cell_type": "code",
   "execution_count": 3,
   "metadata": {},
   "outputs": [],
   "source": [
    "from saenews.utils import *"
   ]
  },
  {
   "cell_type": "code",
   "execution_count": null,
   "metadata": {},
   "outputs": [],
   "source": [
    "title_tagline_news('Hello','iiujnqe','../../../../../bobo.jpg')"
   ]
  },
  {
   "cell_type": "code",
   "execution_count": 5,
   "metadata": {},
   "outputs": [],
   "source": [
    "import math \n",
    "from PIL import Image, ImageDraw \n",
    "from PIL import ImagePath  \n",
    "  \n",
    "side = 6\n",
    "xy = [ \n",
    "    ((math.cos(th) + 1) * 90, \n",
    "     (math.sin(th) + 1) * 60) \n",
    "    for th in [i * (2 * math.pi) / side for i in range(side)] \n",
    "    ]   "
   ]
  },
  {
   "cell_type": "code",
   "execution_count": 6,
   "metadata": {},
   "outputs": [
    {
     "data": {
      "text/plain": [
       "[(180.0, 60.0),\n",
       " (135.0, 111.96152422706632),\n",
       " (45.00000000000002, 111.96152422706633),\n",
       " (0.0, 60.000000000000014),\n",
       " (44.99999999999996, 8.038475772933698),\n",
       " (135.0, 8.038475772933683)]"
      ]
     },
     "execution_count": 6,
     "metadata": {},
     "output_type": "execute_result"
    }
   ],
   "source": [
    "xy = [(0,0),()]"
   ]
  },
  {
   "cell_type": "code",
   "execution_count": 11,
   "metadata": {},
   "outputs": [],
   "source": [
    "W,H = (1200, 630)\n",
    "xy = [(766,0), (489,H), (0,H),(0,0) ]"
   ]
  },
  {
   "cell_type": "code",
   "execution_count": 29,
   "metadata": {},
   "outputs": [],
   "source": [
    "\n",
    "# image = ImagePath.Path(xy).getbbox() \n",
    "img = Image.new('RGBA', (1200, 630), color = 'white')\n",
    "# size = list(map(int, map(math.ceil, image[2:]))) \n",
    "  \n",
    "# img = Image.new(\"RGB\", size, \"red\")  \n",
    "img1 = ImageDraw.Draw(img)   \n",
    "img1.polygon(xy, fill =\"black\")  \n",
    "  \n",
    "# img.show() \n",
    "img.save('not_clean.png')"
   ]
  },
  {
   "cell_type": "code",
   "execution_count": 20,
   "metadata": {},
   "outputs": [
    {
     "data": {
      "text/plain": [
       "(0.0, 0.0, 766.0, 630.0)"
      ]
     },
     "execution_count": 20,
     "metadata": {},
     "output_type": "execute_result"
    }
   ],
   "source": [
    "image"
   ]
  },
  {
   "cell_type": "code",
   "execution_count": 9,
   "metadata": {},
   "outputs": [],
   "source": [
    "# Create Image of Fixed side\n",
    "# Get the second Image\n",
    "# Scale the second image to the height of the first image\n",
    "# Put a new image on the older Image\n",
    "# Put out a Polygon at one side\n",
    "# Put the quote\n",
    "# Put logos and Border\n"
   ]
  },
  {
   "cell_type": "code",
   "execution_count": 17,
   "metadata": {},
   "outputs": [],
   "source": [
    "    from PIL import Image\n",
    "     \n",
    "    img = Image.new('RGBA', (1200, 630), color = 'black')\n",
    "    img.save('pil_red.png')"
   ]
  },
  {
   "cell_type": "code",
   "execution_count": null,
   "metadata": {},
   "outputs": [],
   "source": []
  }
 ],
 "metadata": {
  "kernelspec": {
   "display_name": "Python 3",
   "language": "python",
   "name": "python3"
  },
  "language_info": {
   "codemirror_mode": {
    "name": "ipython",
    "version": 3
   },
   "file_extension": ".py",
   "mimetype": "text/x-python",
   "name": "python",
   "nbconvert_exporter": "python",
   "pygments_lexer": "ipython3",
   "version": "3.6.9"
  }
 },
 "nbformat": 4,
 "nbformat_minor": 2
}

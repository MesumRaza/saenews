{
 "cells": [
  {
   "cell_type": "code",
   "execution_count": 1,
   "metadata": {},
   "outputs": [],
   "source": [
    "from PIL import Image, ImageOps"
   ]
  },
  {
   "cell_type": "code",
   "execution_count": 21,
   "metadata": {},
   "outputs": [],
   "source": [
    "def add_border(input_image, output_image, border):\n",
    "    img = Image.open(input_image)\n",
    " \n",
    "    if isinstance(border, int) or isinstance(border, tuple):\n",
    "        bimg = ImageOps.expand(img, border=border, fill='yellow')\n",
    "    else:\n",
    "        raise RuntimeError('Border is not an integer or tuple!')\n",
    " \n",
    "    bimg.save(output_image)\n",
    "    \n",
    "if __name__ == '__main__':\n",
    "    bottom_factor = 0.2\n",
    "    in_img = './_resize.png'\n",
    "    img = Image.open(in_img)\n",
    "    W,H = img.size\n",
    "    add_border(in_img,\n",
    "               output_image='butterfly_border_all_different.jpg',\n",
    "               border=(0, 0, 0,round(W*bottom_factor)))\n",
    "    "
   ]
  },
  {
   "cell_type": "code",
   "execution_count": null,
   "metadata": {},
   "outputs": [],
   "source": []
  },
  {
   "cell_type": "code",
   "execution_count": 22,
   "metadata": {},
   "outputs": [
    {
     "data": {
      "text/plain": [
       "(1440, 960)"
      ]
     },
     "execution_count": 22,
     "metadata": {},
     "output_type": "execute_result"
    }
   ],
   "source": [
    "img.size"
   ]
  },
  {
   "cell_type": "code",
   "execution_count": 4,
   "metadata": {},
   "outputs": [
    {
     "name": "stdout",
     "output_type": "stream",
     "text": [
      "butterfly_border_all_different.jpg\t\t      not_clean.png\r\n",
      "captionedcaptionedvignet_out.png\t\t      pil_red.png\r\n",
      "captionedvignet_out.png\t\t\t\t      _resize.png\r\n",
      "_imaged-with-border_captionedcaptionedvignet_out.png  TODO\r\n",
      "ImageMaking.ipynb\t\t\t\t      vignet_out.png\r\n",
      "not_clean.jpg\r\n"
     ]
    }
   ],
   "source": [
    "!ls"
   ]
  },
  {
   "cell_type": "code",
   "execution_count": 1,
   "metadata": {},
   "outputs": [
    {
     "data": {
      "text/plain": [
       "''"
      ]
     },
     "execution_count": 1,
     "metadata": {},
     "output_type": "execute_result"
    }
   ],
   "source": [
    "import os\n",
    "os.popen(\"source activate py37d22\").read()"
   ]
  },
  {
   "cell_type": "code",
   "execution_count": 3,
   "metadata": {},
   "outputs": [],
   "source": [
    "from saenews.utils import *"
   ]
  },
  {
   "cell_type": "code",
   "execution_count": null,
   "metadata": {},
   "outputs": [],
   "source": [
    "title_tagline_news('Hello','iiujnqe','../../../../../bobo.jpg')"
   ]
  },
  {
   "cell_type": "code",
   "execution_count": 5,
   "metadata": {},
   "outputs": [],
   "source": [
    "import math \n",
    "from PIL import Image, ImageDraw \n",
    "from PIL import ImagePath  \n",
    "  \n",
    "side = 6\n",
    "xy = [ \n",
    "    ((math.cos(th) + 1) * 90, \n",
    "     (math.sin(th) + 1) * 60) \n",
    "    for th in [i * (2 * math.pi) / side for i in range(side)] \n",
    "    ]   "
   ]
  },
  {
   "cell_type": "code",
   "execution_count": 6,
   "metadata": {},
   "outputs": [
    {
     "data": {
      "text/plain": [
       "[(180.0, 60.0),\n",
       " (135.0, 111.96152422706632),\n",
       " (45.00000000000002, 111.96152422706633),\n",
       " (0.0, 60.000000000000014),\n",
       " (44.99999999999996, 8.038475772933698),\n",
       " (135.0, 8.038475772933683)]"
      ]
     },
     "execution_count": 6,
     "metadata": {},
     "output_type": "execute_result"
    }
   ],
   "source": [
    "xy = [(0,0),()]"
   ]
  },
  {
   "cell_type": "code",
   "execution_count": 39,
   "metadata": {},
   "outputs": [],
   "source": [
    "W,H = (1200*10, 630*10)\n",
    "xy = [(0.638*W,0), (0.4075*W,H), (0,H),(0,0) ]"
   ]
  },
  {
   "cell_type": "code",
   "execution_count": null,
   "metadata": {},
   "outputs": [],
   "source": []
  },
  {
   "cell_type": "code",
   "execution_count": 41,
   "metadata": {},
   "outputs": [],
   "source": [
    "\n",
    "# image = ImagePath.Path(xy).getbbox() \n",
    "img = Image.new('RGB', (1200, 630), color = 'white')\n",
    "# size = list(map(int, map(math.ceil, image[2:]))) \n",
    "  \n",
    "# img = Image.new(\"RGB\", size, \"red\")  \n",
    "img1 = ImageDraw.Draw(img)   \n",
    "img1.polygon(xy, fill =\"black\")  \n",
    "  \n",
    "# img.show() \n",
    "img.save('not_clean.jpg')"
   ]
  },
  {
   "cell_type": "code",
   "execution_count": 38,
   "metadata": {},
   "outputs": [
    {
     "data": {
      "text/plain": [
       "(0.0, 0.0, 766.0, 630.0)"
      ]
     },
     "execution_count": 38,
     "metadata": {},
     "output_type": "execute_result"
    }
   ],
   "source": [
    "image"
   ]
  },
  {
   "cell_type": "code",
   "execution_count": 9,
   "metadata": {},
   "outputs": [],
   "source": [
    "# Create Image of Fixed side\n",
    "# Get the second Image\n",
    "# Scale the second image to the height of the first image\n",
    "# Put a new image on the older Image\n",
    "# Put out a Polygon at one side\n",
    "# Put the quote\n",
    "# Put logos and Border\n"
   ]
  },
  {
   "cell_type": "code",
   "execution_count": 17,
   "metadata": {},
   "outputs": [],
   "source": [
    "    from PIL import Image\n",
    "     \n",
    "    img = Image.new('RGBA', (1200, 630), color = 'black')\n",
    "    img.save('pil_red.png')"
   ]
  },
  {
   "cell_type": "code",
   "execution_count": null,
   "metadata": {},
   "outputs": [],
   "source": []
  }
 ],
 "metadata": {
  "kernelspec": {
   "display_name": "Python 3",
   "language": "python",
   "name": "python3"
  },
  "language_info": {
   "codemirror_mode": {
    "name": "ipython",
    "version": 3
   },
   "file_extension": ".py",
   "mimetype": "text/x-python",
   "name": "python",
   "nbconvert_exporter": "python",
   "pygments_lexer": "ipython3",
   "version": "3.6.9"
  }
 },
 "nbformat": 4,
 "nbformat_minor": 2
}
